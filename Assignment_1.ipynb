{
 "cells": [
  {
   "cell_type": "markdown",
   "metadata": {},
   "source": [
    "1. In the below elements which of them are values or an expression? \n",
    "eg:- values can be integer or string and expressions will be mathematical operators"
   ]
  },
  {
   "cell_type": "markdown",
   "metadata": {},
   "source": [
    " Ans:\n",
    "        \n",
    "  Values     : 'hello',-87.8,6\n",
    "\n",
    "  Experssion : * ,-,/,+\n",
    "    "
   ]
  },
  {
   "cell_type": "markdown",
   "metadata": {},
   "source": [
    "2.What is the difference between string and variable?"
   ]
  },
  {
   "cell_type": "markdown",
   "metadata": {},
   "source": [
    "Variable: \n",
    "    \n",
    "Variables are containers for storing data values.\n",
    "A variable name must start with a letter or the underscore character.\n",
    "A variable name cannot start with a number.\n",
    "A variable name can only contain alpha-numeric characters and underscores (A-z, 0-9, and _ ).\n",
    "A Variable names are case-sensitive.\n",
    "Example: X = 10.\n",
    "    \n",
    "String: \n",
    "    \n",
    "Anything you assign to a variable using quotes (single or double) will be considered as a string.\n",
    "a string is one of several types of a variable.\n",
    "Example: A = \"10\" \n",
    "Here A is a variable and its type is str. "
   ]
  },
  {
   "cell_type": "markdown",
   "metadata": {},
   "source": [
    "3. Describe three different data types."
   ]
  },
  {
   "cell_type": "markdown",
   "metadata": {},
   "source": [
    "Ans:\n",
    "    There are three numeric types in Python:\n",
    "\n",
    "                int\n",
    "                float\n",
    "                complex\n",
    "\n",
    "Int:\n",
    "        Int, or integer, is a whole number, positive or negative, without decimals, of unlimited length.\n",
    "          example: x = 1    # int\n",
    "\n",
    "Float:\n",
    "        Float, or \"floating point number\" is a number, positive or negative, containing one or more decimals.\n",
    "         Example: y = 2.8  # float\n",
    "        \n",
    "Complex :\n",
    "          Complex numbers are written with a \"j\" as the imaginary part.\n",
    "          Example: z = 1j   # complex\n",
    "                \n"
   ]
  },
  {
   "cell_type": "markdown",
   "metadata": {},
   "source": [
    "4.What is an expression made up of? What do all expressions do?"
   ]
  },
  {
   "cell_type": "markdown",
   "metadata": {},
   "source": [
    "Ans: \n",
    "    An expression is a combination of values, variables, operators, and calls to functions. \n",
    "    Expressions need to be evaluated. If you ask Python to print an expression, \n",
    "    the interpreter evaluates the expression and displays the result.\n",
    "    \n",
    "     print(1 + 1)\n",
    "    print(len(\"hello\"))"
   ]
  },
  {
   "cell_type": "markdown",
   "metadata": {},
   "source": [
    "5.This assignment statements, like spam = 10. What is the difference between an expression and a statement?"
   ]
  },
  {
   "cell_type": "markdown",
   "metadata": {},
   "source": [
    "Statement:\n",
    "    \n",
    "Statements represent an action or command e.g print statements. \n",
    "A statement is an instruction that the Python interpreter can execute. \n",
    "We have many kinds of statements, that are while statements, for statements, if statements, and import statements. \n",
    "\n",
    "Expersion: \n",
    "\n",
    "Expression is a combination of variables, operations and values that yields a result value. \n",
    "An expression is something that can be reduced to a value, for example \"1+3\" is an expression, but \"foo = 1+3\" is not\n",
    "    "
   ]
  },
  {
   "cell_type": "markdown",
   "metadata": {},
   "source": [
    "6. After running the following code, what does the variable bacon contain?\n",
    "bacon = 22\n",
    "bacon + 1\n"
   ]
  },
  {
   "cell_type": "markdown",
   "metadata": {},
   "source": [
    "Ans : 22"
   ]
  },
  {
   "cell_type": "markdown",
   "metadata": {},
   "source": [
    " 7. What should the values of the following two terms be?\n",
    "    'spam' + 'spamspam'\n",
    "    'spam' * 3\n"
   ]
  },
  {
   "cell_type": "markdown",
   "metadata": {},
   "source": [
    "Ans:\n",
    "    \n",
    "    'spam' + 'spamspam' -----> 'spamspamspam'\n",
    "    \n",
    "    \n",
    "     'spam' * 3 -----> 'spamspamspam'"
   ]
  },
  {
   "cell_type": "markdown",
   "metadata": {},
   "source": [
    "8.Why is eggs a valid variable name while 100 is invalid?"
   ]
  },
  {
   "cell_type": "markdown",
   "metadata": {},
   "source": [
    "Ans: \n",
    "    \n",
    "A variable name can only contain alpha-numeric characters and underscores. \n",
    "So eggs is valid variable. \n",
    "A variable name cannot start with a number\n",
    "So 100 is not a valid number. "
   ]
  },
  {
   "cell_type": "markdown",
   "metadata": {},
   "source": [
    "9.What three functions can be used to get the integer, floating-point number, or string version of a value?"
   ]
  },
  {
   "cell_type": "markdown",
   "metadata": {},
   "source": [
    "Ans:\n",
    "    \n",
    "    The int(), float(), and str() functions will evaluate to the integer, floating-point number,\n",
    "    and string versions of the value passed to them."
   ]
  },
  {
   "cell_type": "markdown",
   "metadata": {},
   "source": [
    "9.Why does this expression cause an error? How can you fix it?\n",
    "'I have eaten ' + 99 + ' burritos.'\n"
   ]
  },
  {
   "cell_type": "markdown",
   "metadata": {},
   "source": [
    "We can't concatenate string + intiger , when we are doing concatenation data type should same.\n",
    "\n",
    "We can fix in two ways:\n",
    "    \n",
    "    'I have eaten ' + '99' + ' burritos.'\n",
    "    \n",
    "    'I have eaten ' + str(99) + ' burritos.'\n",
    "    \n"
   ]
  },
  {
   "cell_type": "code",
   "execution_count": null,
   "metadata": {},
   "outputs": [],
   "source": []
  },
  {
   "cell_type": "code",
   "execution_count": null,
   "metadata": {},
   "outputs": [],
   "source": []
  }
 ],
 "metadata": {
  "kernelspec": {
   "display_name": "Python 3",
   "language": "python",
   "name": "python3"
  },
  "language_info": {
   "codemirror_mode": {
    "name": "ipython",
    "version": 3
   },
   "file_extension": ".py",
   "mimetype": "text/x-python",
   "name": "python",
   "nbconvert_exporter": "python",
   "pygments_lexer": "ipython3",
   "version": "3.7.4"
  }
 },
 "nbformat": 4,
 "nbformat_minor": 2
}
